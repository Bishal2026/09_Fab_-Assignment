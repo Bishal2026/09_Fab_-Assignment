{
 "cells": [
  {
   "cell_type": "code",
   "execution_count": 1,
   "id": "932e0b84-63a6-4277-b98c-0f07581f6d34",
   "metadata": {},
   "outputs": [],
   "source": [
    "#Q1>\n",
    "class vehicle:\n",
    "    def __init__(self,name_of_vehicle,max_speed,average_of_vehicle): # init method\n",
    "        self.name_of_vehicle = name_of_vehicle\n",
    "        self.max_speed = max_speed\n",
    "        self.average_of_vehicle = average_of_vehicle\n",
    "    #def get_vechicle_details(self):\n",
    "     #   return self.name_of_vehicle,self.max_speed,self.average_of_vehicle\n",
    "    \n",
    "        "
   ]
  },
  {
   "cell_type": "code",
   "execution_count": 2,
   "id": "ba30de4a-c377-4da3-b67c-755f6fa9dac5",
   "metadata": {},
   "outputs": [],
   "source": [
    "car = vehicle(\"Mercedes\",240,100)"
   ]
  },
  {
   "cell_type": "code",
   "execution_count": 17,
   "id": "1bf8b72a-88a5-4a25-85b7-8e61b4a1962d",
   "metadata": {},
   "outputs": [],
   "source": [
    "#Q2>\n",
    "class car(vehicle):\n",
    "    def seating_capacity(self,capacity):\n",
    "         return f\"The seating capacity of a {self.name_of_vehicle} is {capacity} passengers\""
   ]
  },
  {
   "cell_type": "code",
   "execution_count": 18,
   "id": "54b64b4c-7fab-4abd-875d-8248b061a2f7",
   "metadata": {
    "tags": []
   },
   "outputs": [],
   "source": [
    "c = car(\"Mercedes\",240,100)\n"
   ]
  },
  {
   "cell_type": "code",
   "execution_count": 19,
   "id": "cbf18ca2-fc25-43ea-808b-2de3bff728d7",
   "metadata": {},
   "outputs": [
    {
     "data": {
      "text/plain": [
       "'The seating capacity of a Mercedes is 50 passengers'"
      ]
     },
     "execution_count": 19,
     "metadata": {},
     "output_type": "execute_result"
    }
   ],
   "source": [
    "c.seating_capacity(50)"
   ]
  },
  {
   "cell_type": "markdown",
   "id": "2c962033-54bb-4830-a377-3e326d9ebb9e",
   "metadata": {},
   "source": [
    "Q3. Multiple Inheritance is a feature of an object-oriented concept, where a class can inherit properties of more than one parent class"
   ]
  },
  {
   "cell_type": "markdown",
   "id": "ce972d9e-1cba-46a0-8edb-6cf885426171",
   "metadata": {},
   "source": [
    "Example:"
   ]
  },
  {
   "cell_type": "code",
   "execution_count": 21,
   "id": "8aa7975c-5b88-44dc-bd82-c97bab44c0ae",
   "metadata": {},
   "outputs": [],
   "source": [
    "class a:\n",
    "    def a_fun(self):\n",
    "        return \"I am class A\""
   ]
  },
  {
   "cell_type": "code",
   "execution_count": 22,
   "id": "11f75ded-b0c8-4636-b22b-5143432160c1",
   "metadata": {},
   "outputs": [],
   "source": [
    "class b:\n",
    "    def b_fun(self):\n",
    "        return \"I am class B\""
   ]
  },
  {
   "cell_type": "code",
   "execution_count": 23,
   "id": "e62c881e-66e5-4656-8033-c58ce37b45de",
   "metadata": {},
   "outputs": [],
   "source": [
    "class c(a,b):\n",
    "    def c_fun(self):\n",
    "        return \"I am class c\""
   ]
  },
  {
   "cell_type": "code",
   "execution_count": 24,
   "id": "da6b4a8c-6572-4760-957b-18371400bd5f",
   "metadata": {},
   "outputs": [],
   "source": [
    "Multiple = c()"
   ]
  },
  {
   "cell_type": "code",
   "execution_count": 26,
   "id": "ed9e7222-5f65-4c4f-9a66-c2bed5c256f7",
   "metadata": {},
   "outputs": [
    {
     "data": {
      "text/plain": [
       "'I am class B'"
      ]
     },
     "execution_count": 26,
     "metadata": {},
     "output_type": "execute_result"
    }
   ],
   "source": [
    "Multiple.b_fun()"
   ]
  },
  {
   "cell_type": "code",
   "execution_count": 27,
   "id": "d5fb321f-d83d-44cf-9098-fd5ff8d44dd5",
   "metadata": {},
   "outputs": [
    {
     "data": {
      "text/plain": [
       "'I am class A'"
      ]
     },
     "execution_count": 27,
     "metadata": {},
     "output_type": "execute_result"
    }
   ],
   "source": [
    "Multiple.a_fun()\n"
   ]
  },
  {
   "cell_type": "code",
   "execution_count": 28,
   "id": "78748023-fe0a-4acd-8afa-e2390257f4b7",
   "metadata": {},
   "outputs": [
    {
     "data": {
      "text/plain": [
       "'I am class c'"
      ]
     },
     "execution_count": 28,
     "metadata": {},
     "output_type": "execute_result"
    }
   ],
   "source": [
    "Multiple.c_fun()"
   ]
  },
  {
   "cell_type": "markdown",
   "id": "da319f28-6393-4e67-a02c-4f6385f84d83",
   "metadata": {},
   "source": [
    "Q4.Getter: A method that allows you to access an attribute in a given class.\n",
    "Setter: A method that allows you to set or mutate the value of an attribute in a class"
   ]
  },
  {
   "cell_type": "markdown",
   "id": "f3aa561a-240c-43af-8238-e64715481ac5",
   "metadata": {},
   "source": [
    "Example:"
   ]
  },
  {
   "cell_type": "code",
   "execution_count": 30,
   "id": "256ba473-b46b-43a8-966f-8388c72d34e5",
   "metadata": {},
   "outputs": [],
   "source": [
    "class student:\n",
    "    def marks(self,number,stu_id):\n",
    "        self.__number = number\n",
    "        self.__stu_id = stu_id\n",
    "    def set_marks(self,number):\n",
    "        self.__number =number\n",
    "    def get_marks(self):\n",
    "        return self.__number \n",
    "        "
   ]
  },
  {
   "cell_type": "code",
   "execution_count": 32,
   "id": "12d90413-6a3d-43d8-ba02-0481c3da5287",
   "metadata": {},
   "outputs": [],
   "source": [
    "Bishal = student()"
   ]
  },
  {
   "cell_type": "code",
   "execution_count": 33,
   "id": "1617c141-04dc-4235-abd5-389693f28d0f",
   "metadata": {},
   "outputs": [],
   "source": [
    "Bishal.set_marks(90)"
   ]
  },
  {
   "cell_type": "code",
   "execution_count": 34,
   "id": "61e315cf-5bd3-4cdf-8b49-97106ea57436",
   "metadata": {},
   "outputs": [
    {
     "data": {
      "text/plain": [
       "90"
      ]
     },
     "execution_count": 34,
     "metadata": {},
     "output_type": "execute_result"
    }
   ],
   "source": [
    "Bishal.get_marks()"
   ]
  },
  {
   "cell_type": "markdown",
   "id": "00fc12b1-338c-44b7-be6c-f67573ff296f",
   "metadata": {},
   "source": [
    "Q5.> When a method in a subclass has the same name, same parameters and same return type(or sub-type) as a method in its super-class, then the method in the subclass is said to override the method in the super-class."
   ]
  },
  {
   "cell_type": "code",
   "execution_count": 36,
   "id": "2a20f023-d115-4245-b0bf-8c0450bdb70a",
   "metadata": {
    "tags": []
   },
   "outputs": [],
   "source": [
    "class Parent():\n",
    "    def __init__(self):  # Constructor\n",
    "        self.value = \"Inside Parent\"\n",
    "    def show(self):       # Parent's show method\n",
    "        print(self.value)\n",
    "          \n",
    "# Defining child class\n",
    "class Child(Parent):\n",
    "    def __init__(self):           # Constructor\n",
    "        self.value = \"Inside Child\"\n",
    "    def show(self):      # Child's show method\n",
    "        print(self.value)"
   ]
  },
  {
   "cell_type": "code",
   "execution_count": 37,
   "id": "ebe50604-a4dd-441d-81fa-1fbd0fdf7d24",
   "metadata": {},
   "outputs": [
    {
     "name": "stdout",
     "output_type": "stream",
     "text": [
      "Inside Parent\n",
      "Inside Child\n"
     ]
    }
   ],
   "source": [
    "obj1 = Parent()\n",
    "obj2 = Child()\n",
    "obj1.show()\n",
    "obj2.show()"
   ]
  },
  {
   "cell_type": "code",
   "execution_count": null,
   "id": "d4470c0f-9192-49a1-8385-6d7075396a23",
   "metadata": {},
   "outputs": [],
   "source": []
  }
 ],
 "metadata": {
  "kernelspec": {
   "display_name": "Python 3 (ipykernel)",
   "language": "python",
   "name": "python3"
  },
  "language_info": {
   "codemirror_mode": {
    "name": "ipython",
    "version": 3
   },
   "file_extension": ".py",
   "mimetype": "text/x-python",
   "name": "python",
   "nbconvert_exporter": "python",
   "pygments_lexer": "ipython3",
   "version": "3.10.8"
  }
 },
 "nbformat": 4,
 "nbformat_minor": 5
}
